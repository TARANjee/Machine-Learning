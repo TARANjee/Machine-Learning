{
 "cells": [
  {
   "cell_type": "markdown",
   "metadata": {},
   "source": [
    "Single Prediction element by element"
   ]
  },
  {
   "cell_type": "code",
   "execution_count": 2,
   "metadata": {},
   "outputs": [],
   "source": [
    "def predict_single_loop(x,w,b):\n",
    "\n",
    "    n=len(x)\n",
    "    p=0\n",
    "    for i in  range(n):\n",
    "        p_i=x[i]*w[i]\n",
    "        p=p+p_i\n",
    "\n",
    "    p=p+b\n",
    "    return (p)"
   ]
  },
  {
   "cell_type": "code",
   "execution_count": 3,
   "metadata": {},
   "outputs": [],
   "source": [
    "import numpy as np\n",
    "import matplotlib.pyplot as plt"
   ]
  },
  {
   "cell_type": "code",
   "execution_count": 4,
   "metadata": {},
   "outputs": [],
   "source": [
    "#x_train is the input variable(size in 1000sqft)\n",
    "#y_train in the target(prices in 1000s of dollars)\n",
    "x_train=np.array([1,2])\n",
    "w_train=np.array([300,500])"
   ]
  },
  {
   "cell_type": "code",
   "execution_count": 6,
   "metadata": {},
   "outputs": [
    {
     "name": "stdout",
     "output_type": "stream",
     "text": [
      "x_vec shape (2,),x_vec value:[1 2] \n",
      "f_wb shape (),prediction :1400 \n"
     ]
    }
   ],
   "source": [
    "# get a row from our training data\n",
    "x_vec=x_train[0:]\n",
    "print(f\"x_vec shape {x_vec.shape},x_vec value:{x_vec} \")\n",
    "\n",
    "#make a prediction\n",
    "f_wb=predict_single_loop(x_vec,w_train,100)\n",
    "print(f\"f_wb shape {f_wb.shape},prediction :{f_wb} \")\n"
   ]
  },
  {
   "cell_type": "markdown",
   "metadata": {},
   "source": [
    "Single Prediction vector"
   ]
  },
  {
   "cell_type": "code",
   "execution_count": null,
   "metadata": {},
   "outputs": [],
   "source": []
  }
 ],
 "metadata": {
  "kernelspec": {
   "display_name": "Python 3.8.0 64-bit",
   "language": "python",
   "name": "python3"
  },
  "language_info": {
   "codemirror_mode": {
    "name": "ipython",
    "version": 3
   },
   "file_extension": ".py",
   "mimetype": "text/x-python",
   "name": "python",
   "nbconvert_exporter": "python",
   "pygments_lexer": "ipython3",
   "version": "3.10.7"
  },
  "orig_nbformat": 4,
  "vscode": {
   "interpreter": {
    "hash": "aee8b7b246df8f9039afb4144a1f6fd8d2ca17a180786b69acc140d282b71a49"
   }
  }
 },
 "nbformat": 4,
 "nbformat_minor": 2
}
