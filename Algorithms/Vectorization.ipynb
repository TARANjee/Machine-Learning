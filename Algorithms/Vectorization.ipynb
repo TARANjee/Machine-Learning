{
 "cells": [
  {
   "cell_type": "markdown",
   "metadata": {},
   "source": [
    "Import Libraies"
   ]
  },
  {
   "cell_type": "code",
   "execution_count": 17,
   "metadata": {},
   "outputs": [],
   "source": [
    "import numpy as np\n",
    "import sys\n",
    "import numpy.random as rand"
   ]
  },
  {
   "cell_type": "markdown",
   "metadata": {},
   "source": [
    "Vector Dot Product"
   ]
  },
  {
   "cell_type": "code",
   "execution_count": 18,
   "metadata": {},
   "outputs": [
    {
     "name": "stdout",
     "output_type": "stream",
     "text": [
      "Dot Product of a.b=24 \n",
      "Dot Product of b.a=24 \n"
     ]
    }
   ],
   "source": [
    "a=np.array([1,2,3,4])\n",
    "b=np.array([-1,4,3,2])\n",
    "c=np.dot(a,b)\n",
    "print(f\"Dot Product of a.b={c} \")\n",
    "c=np.dot(b,a)\n",
    "print(f\"Dot Product of b.a={c} \")"
   ]
  },
  {
   "cell_type": "markdown",
   "metadata": {},
   "source": [
    "Need For Speed :loop vs vector"
   ]
  },
  {
   "cell_type": "code",
   "execution_count": 25,
   "metadata": {},
   "outputs": [],
   "source": [
    "def my_dot(a,b):\n",
    "    f=0.0\n",
    "    for i in range(4):\n",
    "        f=f +(a[i]*b[i])\n",
    "    \n",
    "    return f\n"
   ]
  },
  {
   "cell_type": "code",
   "execution_count": 26,
   "metadata": {},
   "outputs": [
    {
     "name": "stdout",
     "output_type": "stream",
     "text": [
      "np.dot(a,b)=249825.0234\n",
      "vectorization time duration=1.9989 ms\n",
      "my_dot(a,b)=0.6128\n",
      "loop time duration=0.0000 ms\n"
     ]
    }
   ],
   "source": [
    "import time\n",
    "np.random.seed(1)\n",
    "a=np.random.rand(1000000) #very large array\n",
    "b=np.random.rand(1000000)\n",
    "\n",
    "tic=time.time() #capture start time\n",
    "c=np.dot(a,b)\n",
    "toc=time.time() #capture end time\n",
    "\n",
    "print(f\"np.dot(a,b)={c:.4f}\")\n",
    "print(f\"vectorization time duration={1000*(toc-tic):.4f} ms\")\n",
    "\n",
    "\n",
    "tic=time.time() #capture start time\n",
    "c=my_dot(a,b)\n",
    "toc=time.time() #capture end time\n",
    "\n",
    "print(f\"my_dot(a,b)={c:.4f}\")\n",
    "print(f\"loop time duration={1000*(toc-tic):.4f} ms\")\n",
    "\n",
    "del(a);del(b) #remove these array from memory"
   ]
  }
 ],
 "metadata": {
  "kernelspec": {
   "display_name": "Python 3.7.0 64-bit",
   "language": "python",
   "name": "python3"
  },
  "language_info": {
   "codemirror_mode": {
    "name": "ipython",
    "version": 3
   },
   "file_extension": ".py",
   "mimetype": "text/x-python",
   "name": "python",
   "nbconvert_exporter": "python",
   "pygments_lexer": "ipython3",
   "version": "3.7.0"
  },
  "orig_nbformat": 4,
  "vscode": {
   "interpreter": {
    "hash": "f5220690417351b40ac267b1fc96fe6c23589d0ec5dc43150acd3896de1283d3"
   }
  }
 },
 "nbformat": 4,
 "nbformat_minor": 2
}
